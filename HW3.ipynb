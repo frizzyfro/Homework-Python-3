{
 "cells": [
  {
   "cell_type": "code",
   "execution_count": null,
   "id": "52898c7c",
   "metadata": {
    "deletable": false,
    "editable": false
   },
   "outputs": [],
   "source": [
    "# Initialize Otter\n",
    "import otter\n",
    "grader = otter.Notebook(\"HW3.ipynb\")"
   ]
  },
  {
   "cell_type": "markdown",
   "id": "edfc52e7",
   "metadata": {},
   "source": [
    "# Homework 3\n",
    "\n",
    "This notebook contains Python problems you need to complete. Write your codes directly here. Write your codes directly here. Save your code and upload this file (\"HW3.ipynb\") to [Gradescope](https://www.gradescope.com). \n",
    "\n",
    "Note that there are some hidden tests, so you may not get full points if these tests fail. Do not be misled by the message \"q# passed!\".\n",
    "\n",
    "### This assignment must be completed individually.\n",
    "- Review the syllabus to avoid any academic integrity issues. \n",
    "- All codes in this Jupyter notebook file should be your own creation. \n",
    "- You are encouraged to openly collaborate on **Piazza** with your peers. Therefore, any code snippets shared on Piazza will not be subject to plagiarism even if code similarity checking tool discovers identical codes or similar coding patterns.\n",
    "- You may lose 2 points for each error that prevents Gradescope from auto-grading your submission.  It would be wise to comment out the lines that cause errors if you cannot fix them.\n",
    "\n",
    "### Common errors and how to fix/prevent them\n",
    "The following errors seem to be common among students. So, tips on how to fix or prevent them are given here.\n",
    "- typos:  Take advantage of auto completion using the \\[TAB\\] key.\n",
    "- incorrect use of symbols: Be careful match the opening and closing quotations, parentheses, brackets, braces. Using too many parentheses often create syntax errors.  Create some temporary variables may reduce such errors.\n",
    "- wrong indentation: the error message may provide where it occured.\n",
    "- incorrect data type: Use the type conversion functions, such as int(), float(), str(). I have seem many people not wrapping their name and id with quotation marks for the pledge part.\n",
    "- other syntax errors: Read the error message and take a look at where it occured.  Most of the time, error messages help you fix the error.\n",
    "- logic errors: Even when no syntax error is found, your answer can be marked wrong if you have logic errors. Sometimes, you can get hints from grader.check() output. The best way to fix would be inserting testing codes such as printing object, calling the function you create with sample inputs. Fixing logic errors is a challenge for even professional coders.\n",
    "- submitting a wrong file to Gradescope: Make sure you follow the instructions carefully. Know how to browse to a file.  Also, try not to create multiple files and check the time stamp if you do."
   ]
  },
  {
   "cell_type": "code",
   "execution_count": 1,
   "id": "e7d7a581",
   "metadata": {},
   "outputs": [],
   "source": [
    "%pprint # to turn off pretty printing"
   ]
  },
  {
   "cell_type": "markdown",
   "id": "4129a727",
   "metadata": {},
   "source": [
    "**Question 1 (2pts):** \n",
    "\n",
    "Create a list named `four_to_eighty` that contains numbers starting from 4, ending\n",
    "with 80, and increasing in multiples of 4. You may use range() function, but make sure that the type is `list`. "
   ]
  },
  {
   "cell_type": "code",
   "execution_count": 4,
   "id": "77e3d7fa",
   "metadata": {
    "tags": []
   },
   "outputs": [],
   "source": [
    "# Complete your code below. \n",
    "four_to_eighty = list(range(4,81,4))"
   ]
  },
  {
   "cell_type": "code",
   "execution_count": 11,
   "id": "3fc858a7",
   "metadata": {},
   "outputs": [],
   "source": [
    "# Check if you get the correct list\n",
    "four_to_eighty"
   ]
  },
  {
   "cell_type": "code",
   "execution_count": null,
   "id": "af07ecd2",
   "metadata": {
    "deletable": false,
    "editable": false
   },
   "outputs": [],
   "source": [
    "grader.check(\"q1\")"
   ]
  },
  {
   "cell_type": "markdown",
   "id": "acd7caee",
   "metadata": {},
   "source": [
    "**Question 2 (2pts):** \n",
    "\n",
    "From `four_to_eighty` above, select only the numbers divisible by 6 and assign them to a\n",
    "new list named `div_by_6`. You may want to use a `for` loop with the list `four_to_eighty` as shown below. Inside the loop, make use of % and == operators to test the divisibility of each element in the list and then append the number to the list.\n",
    "\n",
    "Start with the code below\n",
    "\n",
    "```\n",
    "# An empty list named div_by_6\n",
    "div_by_6 = list()\n",
    "for number in four_to_eighty:\n",
    "```"
   ]
  },
  {
   "cell_type": "code",
   "execution_count": 17,
   "id": "df3d548e",
   "metadata": {
    "tags": []
   },
   "outputs": [],
   "source": [
    "# Write your code below. \n",
    "# Ellipsis (...) is meant to be removed. It can generate syntax errors if you don't remove it.\n",
    "div_by_6 = list()\n",
    "for number in four_to_eighty:\n",
    "    if (number%6) == 0:\n",
    "        div_by_6.append(number)"
   ]
  },
  {
   "cell_type": "code",
   "execution_count": 22,
   "id": "9f932fa7",
   "metadata": {},
   "outputs": [],
   "source": [
    "# Check your answer\n",
    "div_by_6"
   ]
  },
  {
   "cell_type": "code",
   "execution_count": null,
   "id": "f4b214fa",
   "metadata": {
    "deletable": false,
    "editable": false
   },
   "outputs": [],
   "source": [
    "grader.check(\"q2\")"
   ]
  },
  {
   "cell_type": "markdown",
   "id": "71471f27",
   "metadata": {},
   "source": [
    "**Question 3 (3pts):** \n",
    "\n",
    "Write a function named `get_div3or4` that takes a list of integers and returns a list of elements that are divisible by three or four.  The header of the function is specified below. \n",
    "\n",
    "```\n",
    "# Start with the function below\n",
    "def get_div3or4(inList):\n",
    "    outList = list()\n",
    "```"
   ]
  },
  {
   "cell_type": "code",
   "execution_count": 10,
   "id": "7192cf75",
   "metadata": {
    "tags": []
   },
   "outputs": [],
   "source": [
    "# Write your code below. \n",
    "def get_div3or4(inList):\n",
    "    outList = list()\n",
    "    for number in inList:\n",
    "        if (number%3==0) or (number%4==0):\n",
    "            outList.append(number)\n",
    "    return outList"
   ]
  },
  {
   "cell_type": "code",
   "execution_count": 11,
   "id": "116bec88",
   "metadata": {},
   "outputs": [],
   "source": [
    "# Test if it works\n",
    "get_div3or4([10,11,12,13,14,15,16])"
   ]
  },
  {
   "cell_type": "code",
   "execution_count": null,
   "id": "77df7886",
   "metadata": {
    "deletable": false,
    "editable": false
   },
   "outputs": [],
   "source": [
    "grader.check(\"q3\")"
   ]
  },
  {
   "cell_type": "markdown",
   "id": "17af0670",
   "metadata": {},
   "source": [
    "**Question 4 (3pts):** \n",
    "\n",
    "Write your own median function named `my_median` for a list.  For a list with odd number of elements, the median is $x_{median}$ = $x_{(\\frac{n+1}{2})}$ where $x_{(1)}, x_{(2)}, \\ldots, x_{(n)}$ are the elements sorted from the least to the greatest. Please note the difference in starting index when you work with indices in Python. \n",
    "\n",
    "\n",
    "A list with even number of elements should take the average of two numbers in the middle. \n",
    "$$\n",
    "x_{median} = \\frac{x_{(\\frac{n}{2})}+x_{(\\frac{n}{2}+1)}}{2}\n",
    "$$\n",
    "\n",
    "This should be a full implementation of `my_median`. Hence, make sure that it works with lists with both odd and even number of elments. You may assume that there is at least one number in the list. \n",
    "\n",
    "(Optional for 1 extra credit point) In addition, if there are elements that are not comparable (e.g., complex number or None), ignore them and return the median of numbers only. \n",
    "In order to handle incomparable numbers, you may want to use a for loop to filter out numbers of int or float type and store in a new array. \n",
    "\n",
    "Start with this code:\n",
    "\n",
    "```\n",
    "def my_median(inputList):\n",
    "```"
   ]
  },
  {
   "cell_type": "code",
   "execution_count": 15,
   "id": "afbd505d",
   "metadata": {
    "tags": []
   },
   "outputs": [],
   "source": [
    "# Write your code below. \n",
    "def my_median(inputList):\n",
    "    cleanList = [i for i in inputList if type(i)==int or type(i)==float]\n",
    "    cleanList.sort()\n",
    "    length = len(cleanList)\n",
    "    if(len(cleanList)%2==0):\n",
    "        median=(cleanList[int(length/2-1)]+cleanList[int(length/2)])/2\n",
    "    else:\n",
    "        median = cleanList[int((length+1)/2)-1]\n",
    "    return(median)"
   ]
  },
  {
   "cell_type": "code",
   "execution_count": 16,
   "id": "8cd5fa28",
   "metadata": {},
   "outputs": [],
   "source": [
    "# Display and check if your answer works.\n",
    "print(my_median([5, 2, 6.9, 3, 4, 0.1]), my_median([0,1,2,3,4]))"
   ]
  },
  {
   "cell_type": "code",
   "execution_count": null,
   "id": "b4852c17",
   "metadata": {
    "deletable": false,
    "editable": false
   },
   "outputs": [],
   "source": [
    "grader.check(\"q4\")"
   ]
  },
  {
   "cell_type": "markdown",
   "id": "e53200ef",
   "metadata": {},
   "source": [
    "**Question 5 (5pt):** \n",
    "\n",
    "Write a function named `hex2dec()` that takes a hexadecimal number as a string (e.g., 'FF01A5', 'fa3b05') and converts it to a decimal number as integer.\n",
    "\n",
    "One way of doing this would be :\n",
    "1. Create a dictionary called `hexDict` with letters \"0\" to \"F\" as keys and 0 to 15 as values. (already coded for you)\n",
    "2. Reverse the string and make it uppercase letters\n",
    "3. Initialize a variable (e.g., decNum) for a resulting decimal number to 0. \n",
    "4. Use a for loop with an index going from 0 to (length of the string)-1 (i.e., for index in range(len(hexStr)): ).  Within the loop, keep adding the $(hex number) * 16^{(index)}$ to the decimal number.\n",
    "5. Return the final decimal number\n",
    "\n",
    "If you are not sure about the logic watch the following video\n",
    "https://www.youtube.com/watch?v=pg-HEGBpCQk\n",
    "\n",
    "Copy & paste the following code to begin your solution:\n",
    "\n",
    "```\n",
    "def hex2dec(hexString):\n",
    "# A dictionary to convert hexadecimal character to integer is provided below\n",
    "# \\ can be used to contune your code to the next line, but it is not necessary in an IPython cell.\n",
    "    hexdict = {'0':0, '1':1, '2':2, '3':3, '4':4, \\\n",
    "               '5':5, '6':6, '7':7,'8':8, '9':9,\\\n",
    "               'A':10, 'B':11, 'C':12, 'D':13, 'E':14, 'F':15}\n",
    "# Complete the function.  You may not need more than 5 lines.\n",
    "```"
   ]
  },
  {
   "cell_type": "code",
   "execution_count": 21,
   "id": "91f3bd74",
   "metadata": {
    "tags": []
   },
   "outputs": [],
   "source": [
    "# Write your code below. \n",
    "def hex2dec(hexString):\n",
    "    hexdict = {'0':0, '1':1, '2':2, '3':3, '4':4, \\\n",
    "               '5':5, '6':6, '7':7,'8':8, '9':9,\\\n",
    "               'A':10, 'B':11, 'C':12, 'D':13, 'E':14, 'F':15}\n",
    "    hexString=hexString[::-1].upper()\n",
    "    decNum=0\n",
    "    for i in range(len(hexString)):\n",
    "        decNum+=hexdict[hexString[i]]*(16**i)\n",
    "    return decNum"
   ]
  },
  {
   "cell_type": "code",
   "execution_count": 22,
   "id": "2fe2810a",
   "metadata": {},
   "outputs": [],
   "source": [
    "# See if it works.\n",
    "print(hex2dec('12'), hex2dec('ff'), hex2dec('A0'))"
   ]
  },
  {
   "cell_type": "code",
   "execution_count": null,
   "id": "18f0724e",
   "metadata": {
    "deletable": false,
    "editable": false
   },
   "outputs": [],
   "source": [
    "grader.check(\"q5\")"
   ]
  },
  {
   "cell_type": "markdown",
   "id": "432d8e08",
   "metadata": {},
   "source": [
    "**Question 6 (4pts):** \n",
    "\n",
    "Write a function that checks if an integer is a prime number or not.  The function will return `True` if the integer is a prime, `False` otherwise.  If the input is not an integer greater than 1, the function displays a message, \"___ is not an integer greater than 1.\" and returns nothing. \n",
    "\n",
    "*(Optional)* Enhance the function so that the function still works if an integer is passed as a string.  Any other inputs will display the same message, \"___ is not an integer greater than 1.\" and returns nothing.\n",
    "\n",
    "Start with the following code:\n",
    "\n",
    "```\n",
    "def is_prime(n):\n",
    "    # Check if a number is a float or 1.\n",
    "    if (type(n)==float or n==1):\n",
    "        print(str(n) + \" is not an integer greater than 1.\")\n",
    "        return\n",
    "```"
   ]
  },
  {
   "cell_type": "code",
   "execution_count": 28,
   "id": "c51ff84d",
   "metadata": {
    "tags": []
   },
   "outputs": [],
   "source": [
    "# Write your code below. \n",
    "def is_prime(n):\n",
    "    if (type(n)==float or n==1):\n",
    "        print(str(n) + \" is not an integer greater than 1.\")\n",
    "        return\n",
    "\n",
    "\n",
    "    try:\n",
    "        n=int(n)\n",
    "    except:\n",
    "        print(str(n) + \" is not an integer greater than 1.\")\n",
    "        return\n",
    "\n",
    "    result=True\n",
    "    for i in range(2,n):\n",
    "        if(n%i==0):\n",
    "            result=False\n",
    "            break\n",
    "\n",
    "    return result"
   ]
  },
  {
   "cell_type": "code",
   "execution_count": 29,
   "id": "431fbefa",
   "metadata": {},
   "outputs": [],
   "source": [
    "# See if correct boolean value or None is returned.\n",
    "\n",
    "print(is_prime(3.3))\n",
    "print(is_prime(17))\n",
    "print(is_prime(1))"
   ]
  },
  {
   "cell_type": "code",
   "execution_count": null,
   "id": "38f31b37",
   "metadata": {
    "deletable": false,
    "editable": false
   },
   "outputs": [],
   "source": [
    "grader.check(\"q6\")"
   ]
  },
  {
   "cell_type": "markdown",
   "id": "b8a700f6",
   "metadata": {},
   "source": [
    "**Question 7 (3pts):** \n",
    "\n",
    "- Create a numpy array of 40 random numbers drawn from a normal distribution with a mean of $\\mu = 100$ and a standard deviation $\\sigma = 10$. And then, assign it to a variable `random_sample`.  Hint: Use the numpy package's [random.normal()](https://numpy.org/doc/stable/reference/random/generated/numpy.random.normal.html) function.\n",
    "\n",
    "- From `random_sample`, create another numpy array  (i.e., array with values `True` or `False` only). The value should be `True` if the corresponding number in `random_sample` is greater than or equal to the mean (i.e., 100). Assign the logical array to a variable `is_ge_mean`. \n",
    "\n",
    "- From `random_sample`, create another numpy array where the values are less than the mean (i.e., 100). Assign it to a variable named `low_sample`."
   ]
  },
  {
   "cell_type": "code",
   "execution_count": 36,
   "id": "9fa025f3",
   "metadata": {},
   "outputs": [],
   "source": [
    "# Import numpy package\n",
    "import numpy as np"
   ]
  },
  {
   "cell_type": "code",
   "execution_count": 37,
   "id": "8a400481",
   "metadata": {
    "tags": []
   },
   "outputs": [],
   "source": [
    "# Write your code below. \n",
    "random_sample = np.random.normal(100,10,40)\n",
    "is_ge_mean = random_sample >= 100\n",
    "low_sample = random_sample[random_sample <100]"
   ]
  },
  {
   "cell_type": "code",
   "execution_count": 38,
   "id": "86de983e",
   "metadata": {},
   "outputs": [],
   "source": [
    "# Check your work\n",
    "print(random_sample)\n",
    "print(is_ge_mean)\n",
    "print(low_sample)"
   ]
  },
  {
   "cell_type": "code",
   "execution_count": null,
   "id": "4ac919d8",
   "metadata": {
    "deletable": false,
    "editable": false
   },
   "outputs": [],
   "source": [
    "grader.check(\"q7\")"
   ]
  },
  {
   "cell_type": "markdown",
   "id": "ad220a86",
   "metadata": {},
   "source": [
    "**Question 8 (3pts):** \n",
    "\n",
    "Compute the following statistics based on the given formula and store them in variables named `sample_mean`, `sample_var`, and `sample_sd`. Note that $x_1, x_2,\\ldots, x_N$ are the 25 random numbers you have drawn from the normal distribution and $N-1$ is used in the denominator for the calculation of sample variance.\n",
    "\n",
    "- sample mean, $\\bar{x} = \\frac{\\sum_{i=1}^{N} x_i}{N}$\n",
    "- sample variance, $s^2 = \\frac{1}{N-1}\\sum_{i=1}^{N} (x_i-\\bar{x})^2$\n",
    "- sample standard deviation, $s= \\sqrt{s^2}$\n",
    "\n",
    "Compare the mean and standard deviation computed above with the mean and standard deviation of the original normal distribution. See how close these values are to those of the original distribution (i.e., population mean  of 100 and population standard deviation of 10.) You may try increasing the sample size to a large number (e.g., 100,000 instead of 25) if they do not look similar to each other. But, do not include such coding in your submission.\t"
   ]
  },
  {
   "cell_type": "code",
   "execution_count": 1,
   "id": "d240782b",
   "metadata": {
    "tags": []
   },
   "outputs": [
    {
     "ename": "NameError",
     "evalue": "name 'random_sample' is not defined",
     "output_type": "error",
     "traceback": [
      "\u001b[1;31m---------------------------------------------------------------------------\u001b[0m",
      "\u001b[1;31mNameError\u001b[0m                                 Traceback (most recent call last)",
      "\u001b[1;32m<ipython-input-1-46400288cb6a>\u001b[0m in \u001b[0;36m<module>\u001b[1;34m\u001b[0m\n\u001b[0;32m      1\u001b[0m \u001b[1;31m# Write your code below.\u001b[0m\u001b[1;33m\u001b[0m\u001b[1;33m\u001b[0m\u001b[1;33m\u001b[0m\u001b[0m\n\u001b[1;32m----> 2\u001b[1;33m \u001b[0msample_mean\u001b[0m \u001b[1;33m=\u001b[0m \u001b[0mrandom_sample\u001b[0m\u001b[1;33m.\u001b[0m\u001b[0msum\u001b[0m\u001b[1;33m(\u001b[0m\u001b[1;33m)\u001b[0m\u001b[1;33m/\u001b[0m\u001b[0mlen\u001b[0m\u001b[1;33m(\u001b[0m\u001b[0mrandom_sample\u001b[0m\u001b[1;33m)\u001b[0m\u001b[1;33m\u001b[0m\u001b[1;33m\u001b[0m\u001b[0m\n\u001b[0m\u001b[0;32m      3\u001b[0m \u001b[0msample_var\u001b[0m \u001b[1;33m=\u001b[0m \u001b[0mnp\u001b[0m\u001b[1;33m.\u001b[0m\u001b[0msum\u001b[0m\u001b[1;33m(\u001b[0m\u001b[1;33m(\u001b[0m\u001b[0mrandom_sample\u001b[0m \u001b[1;33m-\u001b[0m \u001b[0msample_mean\u001b[0m\u001b[1;33m)\u001b[0m\u001b[1;33m**\u001b[0m\u001b[1;36m2\u001b[0m\u001b[1;33m)\u001b[0m\u001b[1;33m/\u001b[0m\u001b[1;33m(\u001b[0m\u001b[0mlen\u001b[0m\u001b[1;33m(\u001b[0m\u001b[0mrandom_sample\u001b[0m\u001b[1;33m)\u001b[0m\u001b[1;33m)\u001b[0m\u001b[1;33m\u001b[0m\u001b[1;33m\u001b[0m\u001b[0m\n\u001b[0;32m      4\u001b[0m \u001b[0msample_sd\u001b[0m \u001b[1;33m=\u001b[0m \u001b[0mnp\u001b[0m\u001b[1;33m.\u001b[0m\u001b[0msqrt\u001b[0m\u001b[1;33m(\u001b[0m\u001b[0msample_var\u001b[0m\u001b[1;33m)\u001b[0m\u001b[1;33m\u001b[0m\u001b[1;33m\u001b[0m\u001b[0m\n\u001b[0;32m      5\u001b[0m \u001b[0mprint\u001b[0m\u001b[1;33m(\u001b[0m\u001b[0msample_mean\u001b[0m\u001b[1;33m)\u001b[0m\u001b[1;33m\u001b[0m\u001b[1;33m\u001b[0m\u001b[0m\n",
      "\u001b[1;31mNameError\u001b[0m: name 'random_sample' is not defined"
     ]
    }
   ],
   "source": [
    "# Write your code below.\n",
    "sample_mean = random_sample.sum()/len(random_sample)\n",
    "sample_var = np.sum((random_sample - sample_mean)**2)/(len(random_sample)-1)\n",
    "sample_sd = np.sqrt(sample_var)"
   ]
  },
  {
   "cell_type": "code",
   "execution_count": 45,
   "id": "2b0ae114",
   "metadata": {},
   "outputs": [],
   "source": [
    "# Check if the values are reasonable\n",
    "sample_mean, sample_var, sample_sd"
   ]
  },
  {
   "cell_type": "code",
   "execution_count": null,
   "id": "28d94697",
   "metadata": {
    "deletable": false,
    "editable": false
   },
   "outputs": [],
   "source": [
    "grader.check(\"q8\")"
   ]
  },
  {
   "cell_type": "markdown",
   "id": "eeccb387",
   "metadata": {},
   "source": [
    "**Question 9 (5pts):** \n",
    "\n",
    "### Working with two-dimensional numpy arrays\n",
    "- Create a matrix (two-dimentional numpy array) of even numbers from 2 through 60 with 6 rows and 5 columns. The values within the matrix should increase row-wise. Assign it to a variable `even_matrix`.\n",
    "- Create another matrix of odd numbers from 1 through 59 with 6 rows and 5 columns. The values within the matrix should increase row-wise . Assign it to a variable `odd_matrix`.\n",
    "- Subtract odd_matrix from even_matrix, and store it in a variable named `diff_mat`. Calculate the sum of all elements in `diff_mat` and store it to `sum_of_differences`.\n",
    "- Combine the rows of odd_matrix with that of even_matrix (i.e., the resulting matrix will have 12 rows and 5 columns), showing odd_matrix on top. Assign the result to a variable `combined_by_row`. Hint: Use numpy's `append()` function and specify the axis argument.\n",
    "- Combine the columns of odd_matrix with that of even_matrix (i.e., the resulting matrix will have 6 rows and 10 columns), showing odd_matrix on the left. Assign the result to a variable `combined_by_col`."
   ]
  },
  {
   "cell_type": "code",
   "execution_count": 49,
   "id": "0638263d",
   "metadata": {
    "tags": []
   },
   "outputs": [],
   "source": [
    "# Write your code below. \n",
    "even_matrix = np.array(range(2,61,2)).reshape(6,5)\n",
    "odd_matrix = np.array(range(1,60,2)).reshape(6,5)\n",
    "diff_mat = even_matrix-odd_matrix\n",
    "sum_of_differences=diff_mat.sum()\n",
    "combined_by_row = np.append(odd_matrix,even_matrix, axis=0)\n",
    "combined_by_col = np.append(odd_matrix,even_matrix, axis=1)"
   ]
  },
  {
   "cell_type": "code",
   "execution_count": 50,
   "id": "f5ec0db2",
   "metadata": {},
   "outputs": [],
   "source": [
    "# Check if you have the correct matricies.\n",
    "print(even_matrix)\n",
    "print(odd_matrix)\n",
    "print(diff_mat)\n",
    "print(combined_by_row)\n",
    "print(combined_by_col)"
   ]
  },
  {
   "cell_type": "code",
   "execution_count": null,
   "id": "50e9e55c",
   "metadata": {
    "deletable": false,
    "editable": false
   },
   "outputs": [],
   "source": [
    "grader.check(\"q9\")"
   ]
  },
  {
   "cell_type": "markdown",
   "id": "853e031a",
   "metadata": {},
   "source": [
    "**Question 10 (5pts):** \n",
    "\n",
    "Do the following problems utilizing the numpy package:\n",
    "\n",
    "- Generate an array of 15 random numbers from from 0 (inclusive) to 5 (exclusive) using numpy's [random.randint()](https://numpy.org/doc/stable/reference/random/generated/numpy.random.RandomState.randint.html#numpy.random.RandomState.randint) function. Assign it to a variable `rand_array1`. Hint: Look up the documentation to figure out how many and what arguments you need to pass to the randint() function.\n",
    "- Generate another array of 15 random numbers from 5 (inclusive) to 10 (exclusive)  and assign it to a variable `rand_array2`.\n",
    "- Create a matrix (two-dimentional numpy array) of 5 rows and 3 columns using the first array and assign it to a variable named `mat1`.  Create another matrix of 3 rows and 5 columns using the second array and assign it to a varaible named `mat2`.\n",
    "- Calculate the sum of the products of the elements in the $3^{rd}$ row of `mat1` and the corresponding elements in the $4^{th}$ column of `mat2`. Note that the $3^{rd}$ row should be extracted with `mat1[2,:]` instead of `mat1[3,:]` because index starts from 0 in Python. Similarly, you need to use `mat2[:,3]` to extract the $4^{th}$ column. Assign the calulated value to a variable named `a34`."
   ]
  },
  {
   "cell_type": "code",
   "execution_count": 56,
   "id": "44b23db7",
   "metadata": {
    "tags": []
   },
   "outputs": [],
   "source": [
    "# Write your code below. \n",
    "rand_array1 = np.random.randint(0,5,15)\n",
    "rand_array2 = np.random.randint(5,10,15)\n",
    "mat1 = rand_array1.reshape(5,3)\n",
    "mat2 = rand_array2.reshape(3,5)\n",
    "a34 = np.sum(mat1[2,:]*mat2[:,3])"
   ]
  },
  {
   "cell_type": "code",
   "execution_count": 57,
   "id": "0dcff33d",
   "metadata": {},
   "outputs": [],
   "source": [
    "# Display and check if your answer works.\n",
    "print(mat1)\n",
    "print(mat2)\n",
    "print(a34)\n",
    "print(np.matmul(mat1,mat2))"
   ]
  },
  {
   "cell_type": "code",
   "execution_count": null,
   "id": "4553943e",
   "metadata": {
    "deletable": false,
    "editable": false
   },
   "outputs": [],
   "source": [
    "grader.check(\"q10\")"
   ]
  },
  {
   "cell_type": "markdown",
   "id": "400a02ba",
   "metadata": {},
   "source": [
    "**Honor Pledge:** As a signature for the following honor pledge, store your name as it is appeared on Canvas (e.g., \"Mike Jordan\") and Login ID (e.g., \"mjorda21\") in variables `my_name` and `my_id` below.  \n",
    "\n",
    "***I affirm that I have not given or received any unauthorized help on this assignment and that this work is my own.***"
   ]
  },
  {
   "cell_type": "code",
   "execution_count": 66,
   "id": "7b7b442d",
   "metadata": {
    "tags": []
   },
   "outputs": [],
   "source": [
    "my_name = \"Faye Struble\"\n",
    "my_id = \"fstruble\""
   ]
  }
 ],
 "metadata": {
  "kernelspec": {
   "display_name": "Python 3",
   "language": "python",
   "name": "python3"
  },
  "language_info": {
   "codemirror_mode": {
    "name": "ipython",
    "version": 3
   },
   "file_extension": ".py",
   "mimetype": "text/x-python",
   "name": "python",
   "nbconvert_exporter": "python",
   "pygments_lexer": "ipython3",
   "version": "3.8.8"
  },
  "otter": {
   "tests": {
    "pledge": {
     "name": "pledge",
     "points": [
      0.5
     ],
     "suites": [
      {
       "cases": [],
       "scored": true,
       "setup": "",
       "teardown": "",
       "type": "doctest"
      }
     ]
    },
    "q1": {
     "name": "q1",
     "points": [
      1,
      1
     ],
     "suites": [
      {
       "cases": [
        {
         "code": ">>> type(four_to_eighty)==list and len(four_to_eighty)==20\nTrue",
         "hidden": false,
         "locked": false
        },
        {
         "code": ">>> four_to_eighty==list(range(4,81,4))\nTrue",
         "hidden": false,
         "locked": false
        }
       ],
       "scored": true,
       "setup": "",
       "teardown": "",
       "type": "doctest"
      }
     ]
    },
    "q10": {
     "name": "q10",
     "points": [
      1,
      1,
      0.5,
      0.5,
      1,
      0.5,
      0.5
     ],
     "suites": [
      {
       "cases": [
        {
         "code": ">>> all((rand_array1>=0) & (rand_array1<=4))\nTrue",
         "hidden": false,
         "locked": false
        },
        {
         "code": ">>> all((rand_array2>=5) & (rand_array2<=9))\nTrue",
         "hidden": false,
         "locked": false
        },
        {
         "code": ">>> mat1.shape==(5,3)\nTrue",
         "hidden": false,
         "locked": false
        },
        {
         "code": ">>> mat2.shape==(3,5)\nTrue",
         "hidden": false,
         "locked": false
        },
        {
         "code": ">>> a34==np.matmul(mat1,mat2)[2,3]\nTrue",
         "hidden": false,
         "locked": false
        },
        {
         "code": ">>> (mat1 == rand_array1.reshape(5,3)).all()\nTrue",
         "hidden": false,
         "locked": false
        },
        {
         "code": ">>> np.all(mat2 == rand_array2.reshape(3,5))\nTrue",
         "hidden": false,
         "locked": false
        }
       ],
       "scored": true,
       "setup": "",
       "teardown": "",
       "type": "doctest"
      }
     ]
    },
    "q2": {
     "name": "q2",
     "points": [
      1,
      1
     ],
     "suites": [
      {
       "cases": [
        {
         "code": ">>> div_by_6[len(div_by_6)-1]==72\nTrue",
         "hidden": false,
         "locked": false
        },
        {
         "code": ">>> len(div_by_6)==6\nTrue",
         "hidden": false,
         "locked": false
        }
       ],
       "scored": true,
       "setup": "",
       "teardown": "",
       "type": "doctest"
      }
     ]
    },
    "q3": {
     "name": "q3",
     "points": 3,
     "suites": [
      {
       "cases": [
        {
         "code": ">>> get_div3or4([10,11,12,13,14,15,16])==[12, 15, 16]\nTrue",
         "hidden": false,
         "locked": false
        },
        {
         "code": ">>> get_div3or4(list(range(100,150,2)))==[100, 102, 104, 108, 112, 114, 116, 120, 124, 126, 128, 132, 136, 138, 140, 144, 148]\nTrue",
         "hidden": false,
         "locked": false
        },
        {
         "code": ">>> get_div3or4([1,2])==[]\nTrue",
         "hidden": false,
         "locked": false
        }
       ],
       "scored": true,
       "setup": "",
       "teardown": "",
       "type": "doctest"
      }
     ]
    },
    "q4": {
     "name": "q4",
     "points": [
      1,
      1,
      1,
      1
     ],
     "suites": [
      {
       "cases": [
        {
         "code": ">>> my_median([0,1,2,3,4])==2\nTrue",
         "hidden": false,
         "locked": false
        },
        {
         "code": ">>> my_median([1.0,1.1,2.0,3.0,3.9,4.1])==2.5\nTrue",
         "hidden": false,
         "locked": false
        },
        {
         "code": ">>> inputList= [5, 2, 6.9, 3, 4, 0.1]\n>>> my_median(inputList)==3.5\nTrue",
         "hidden": false,
         "locked": false
        },
        {
         "code": ">>> inputList= [1.8, 'nine', 2, None, 2,2.7, 1+3J, 3.1, 4.3, 5]\n>>> my_median(inputList)==2.7\nTrue",
         "hidden": false,
         "locked": false
        }
       ],
       "scored": true,
       "setup": "",
       "teardown": "",
       "type": "doctest"
      }
     ]
    },
    "q5": {
     "name": "q5",
     "points": 5,
     "suites": [
      {
       "cases": [
        {
         "code": ">>> hex2dec(\"FFFFFF\")==(2**24-1)\nTrue",
         "hidden": false,
         "locked": false
        },
        {
         "code": ">>> hex2dec('ABCDEF')== 11259375\nTrue",
         "hidden": false,
         "locked": false
        },
        {
         "code": ">>> hex2dec('12')==18\nTrue",
         "hidden": false,
         "locked": false
        },
        {
         "code": ">>> hex2dec('ff')==255\nTrue",
         "hidden": false,
         "locked": false
        },
        {
         "code": ">>> hex2dec('A0')==160\nTrue",
         "hidden": false,
         "locked": false
        }
       ],
       "scored": true,
       "setup": "",
       "teardown": "",
       "type": "doctest"
      }
     ]
    },
    "q6": {
     "name": "q6",
     "points": [
      1,
      1,
      1,
      1,
      1,
      1
     ],
     "suites": [
      {
       "cases": [
        {
         "code": ">>> is_prime(3.3)==None\n3.3 is not an integer greater than 1.\nTrue",
         "hidden": false,
         "locked": false
        },
        {
         "code": ">>> is_prime(17)==True\nTrue",
         "hidden": false,
         "locked": false
        },
        {
         "code": ">>> is_prime(1)==None\n1 is not an integer greater than 1.\nTrue",
         "hidden": false,
         "locked": false
        },
        {
         "code": ">>> is_prime(1001)==False\nTrue",
         "hidden": false,
         "locked": false
        }
       ],
       "scored": true,
       "setup": "",
       "teardown": "",
       "type": "doctest"
      }
     ]
    },
    "q7": {
     "name": "q7",
     "points": [
      0.5,
      0.5,
      0.5,
      0.5,
      1
     ],
     "suites": [
      {
       "cases": [
        {
         "code": ">>> len(random_sample)==40\nTrue",
         "hidden": false,
         "locked": false
        },
        {
         "code": ">>> all((random_sample<=100+4*10) & (random_sample>=100-4*10))\nTrue",
         "hidden": false,
         "locked": false
        },
        {
         "code": ">>> type(is_ge_mean[0])==np.bool_\nTrue",
         "hidden": false,
         "locked": false
        },
        {
         "code": ">>> len(is_ge_mean)==40\nTrue",
         "hidden": false,
         "locked": false
        },
        {
         "code": ">>> all(low_sample==random_sample[random_sample<100])\nTrue",
         "hidden": false,
         "locked": false
        }
       ],
       "scored": true,
       "setup": "",
       "teardown": "",
       "type": "doctest"
      }
     ]
    },
    "q8": {
     "name": "q8",
     "points": 3,
     "suites": [
      {
       "cases": [
        {
         "code": ">>> sample_mean == np.sum(random_sample)/len(random_sample) and sample_mean==random_sample.mean()\nTrue",
         "hidden": false,
         "locked": false
        },
        {
         "code": ">>> sample_var == np.var(random_sample,ddof=1)\nTrue",
         "hidden": false,
         "locked": false
        },
        {
         "code": ">>> sample_sd == np.std(random_sample, ddof=1)\nTrue",
         "hidden": false,
         "locked": false
        }
       ],
       "scored": true,
       "setup": "",
       "teardown": "",
       "type": "doctest"
      }
     ]
    },
    "q9": {
     "name": "q9",
     "points": 5,
     "suites": [
      {
       "cases": [
        {
         "code": ">>> np.all(even_matrix==np.array([[ 2,  4,  6,  8, 10],\n...                               [12, 14, 16, 18, 20],\n...                               [22, 24, 26, 28, 30],\n...                               [32, 34, 36, 38, 40],\n...                               [42, 44, 46, 48, 50],\n...                               [52, 54, 56, 58, 60]]))\nTrue",
         "hidden": false,
         "locked": false
        },
        {
         "code": ">>> np.all(odd_matrix==np.array([[ 1,  3,  5,  7,  9],\n...                              [11, 13, 15, 17, 19],\n...                              [21, 23, 25, 27, 29],\n...                              [31, 33, 35, 37, 39],\n...                              [41, 43, 45, 47, 49],\n...                              [51, 53, 55, 57, 59]]))\nTrue",
         "hidden": false,
         "locked": false
        },
        {
         "code": ">>> np.all(diff_mat==np.array([[1, 1, 1, 1, 1],\n...                            [1, 1, 1, 1, 1],\n...                            [1, 1, 1, 1, 1],\n...                            [1, 1, 1, 1, 1],\n...                            [1, 1, 1, 1, 1],\n...                            [1, 1, 1, 1, 1]]))\nTrue",
         "hidden": false,
         "locked": false
        },
        {
         "code": ">>> np.all(combined_by_row==np.array([[ 1,  3,  5,  7,  9],\n...                                   [11, 13, 15, 17, 19],\n...                                   [21, 23, 25, 27, 29],\n...                                   [31, 33, 35, 37, 39],\n...                                   [41, 43, 45, 47, 49],\n...                                   [51, 53, 55, 57, 59],\n...                                   [ 2,  4,  6,  8, 10],\n...                                   [12, 14, 16, 18, 20],\n...                                   [22, 24, 26, 28, 30],\n...                                   [32, 34, 36, 38, 40],\n...                                   [42, 44, 46, 48, 50],\n...                                   [52, 54, 56, 58, 60]]))\nTrue",
         "hidden": false,
         "locked": false
        },
        {
         "code": ">>> np.all(combined_by_col==np.array([[ 1,  3,  5,  7,  9,  2,  4,  6,  8, 10],\n...                                   [11, 13, 15, 17, 19, 12, 14, 16, 18, 20],\n...                                   [21, 23, 25, 27, 29, 22, 24, 26, 28, 30],\n...                                   [31, 33, 35, 37, 39, 32, 34, 36, 38, 40],\n...                                   [41, 43, 45, 47, 49, 42, 44, 46, 48, 50],\n...                                   [51, 53, 55, 57, 59, 52, 54, 56, 58, 60]]))\nTrue",
         "hidden": false,
         "locked": false
        }
       ],
       "scored": true,
       "setup": "",
       "teardown": "",
       "type": "doctest"
      }
     ]
    }
   }
  },
  "varInspector": {
   "cols": {
    "lenName": 16,
    "lenType": 16,
    "lenVar": 40
   },
   "kernels_config": {
    "python": {
     "delete_cmd_postfix": "",
     "delete_cmd_prefix": "del ",
     "library": "var_list.py",
     "varRefreshCmd": "print(var_dic_list())"
    },
    "r": {
     "delete_cmd_postfix": ") ",
     "delete_cmd_prefix": "rm(",
     "library": "var_list.r",
     "varRefreshCmd": "cat(var_dic_list()) "
    }
   },
   "position": {
    "height": "397px",
    "left": "1280px",
    "right": "20px",
    "top": "119px",
    "width": "558px"
   },
   "types_to_exclude": [
    "module",
    "function",
    "builtin_function_or_method",
    "instance",
    "_Feature"
   ],
   "window_display": false
  }
 },
 "nbformat": 4,
 "nbformat_minor": 5
}
